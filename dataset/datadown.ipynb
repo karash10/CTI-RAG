{
 "cells": [
  {
   "cell_type": "code",
   "execution_count": 1,
   "id": "833c687c",
   "metadata": {},
   "outputs": [
    {
     "name": "stderr",
     "output_type": "stream",
     "text": [
      "c:\\Users\\kappa\\OneDrive\\sem5\\ML\\vir\\Lib\\site-packages\\tqdm\\auto.py:21: TqdmWarning: IProgress not found. Please update jupyter and ipywidgets. See https://ipywidgets.readthedocs.io/en/stable/user_install.html\n",
      "  from .autonotebook import tqdm as notebook_tqdm\n"
     ]
    },
    {
     "name": "stdout",
     "output_type": "stream",
     "text": [
      "--- 1. Acquiring Data from Hugging Face: Bouquets/Cybersecurity-LLM-CVE ---\n"
     ]
    },
    {
     "name": "stderr",
     "output_type": "stream",
     "text": [
      "c:\\Users\\kappa\\OneDrive\\sem5\\ML\\vir\\Lib\\site-packages\\huggingface_hub\\file_download.py:143: UserWarning: `huggingface_hub` cache-system uses symlinks by default to efficiently store duplicated files but your machine does not support them in C:\\Users\\kappa\\.cache\\huggingface\\hub\\datasets--Bouquets--Cybersecurity-LLM-CVE. Caching files will still work but in a degraded version that might require more space on your disk. This warning can be disabled by setting the `HF_HUB_DISABLE_SYMLINKS_WARNING` environment variable. For more details, see https://huggingface.co/docs/huggingface_hub/how-to-cache#limitations.\n",
      "To support symlinks on Windows, you either need to activate Developer Mode or to run Python as an administrator. In order to activate developer mode, see this article: https://docs.microsoft.com/en-us/windows/apps/get-started/enable-your-device-for-development\n",
      "  warnings.warn(message)\n",
      "Xet Storage is enabled for this repo, but the 'hf_xet' package is not installed. Falling back to regular HTTP download. For better performance, install the package with: `pip install huggingface_hub[hf_xet]` or `pip install hf_xet`\n",
      "Xet Storage is enabled for this repo, but the 'hf_xet' package is not installed. Falling back to regular HTTP download. For better performance, install the package with: `pip install huggingface_hub[hf_xet]` or `pip install hf_xet`\n",
      "Xet Storage is enabled for this repo, but the 'hf_xet' package is not installed. Falling back to regular HTTP download. For better performance, install the package with: `pip install huggingface_hub[hf_xet]` or `pip install hf_xet`\n",
      "Xet Storage is enabled for this repo, but the 'hf_xet' package is not installed. Falling back to regular HTTP download. For better performance, install the package with: `pip install huggingface_hub[hf_xet]` or `pip install hf_xet`\n",
      "Generating train split: 100%|██████████| 124732/124732 [00:00<00:00, 621610.94 examples/s]\n"
     ]
    },
    {
     "name": "stdout",
     "output_type": "stream",
     "text": [
      "Successfully loaded 124732 CVE records.\n",
      "Data saved to local file: cve_data_raw.csv\n",
      "\n",
      "--- Sample of Loaded Data ---\n",
      "| instruction                                              | inputs   | outputs                                                                                                                                                                                                                        |\n",
      "|:---------------------------------------------------------|:---------|:-------------------------------------------------------------------------------------------------------------------------------------------------------------------------------------------------------------------------------|\n",
      "| Please provide detailed information about CVE-2020-13909 |          | CVE:CVE-2020-13909                                                                                                                                                                                                             |\n",
      "|                                                          |          | Description:The Ignition component before 2.0.5 for Laravel mishandles globals, _get, _post, _cookie, and _env. NOTE: in the 1.x series, versions 1.16.15 and later are unaffected as a consequence of the CVE-2021-43996 fix. |\n",
      "|                                                          |          | published:2020-06-07T20:15:10.140                                                                                                                                                                                              |\n",
      "| Please provide detailed information about CVE-2021-3002  |          | CVE:CVE-2021-3002                                                                                                                                                                                                              |\n",
      "|                                                          |          | Description:Seo Panel 4.8.0 allows reflected XSS via the seo/seopanel/login.php?sec=forgot email parameter.                                                                                                                    |\n",
      "|                                                          |          | published:2021-01-01T19:15:11.077                                                                                                                                                                                              |\n",
      "| Please provide detailed information about CVE-2021-3004  |          | CVE:CVE-2021-3004                                                                                                                                                                                                              |\n",
      "|                                                          |          | Description:The _deposit function in the smart contract implementation for Stable Yield Credit (yCREDIT), an Ethereum token, has certain incorrect calculations. An attacker can obtain more yCREDIT tokens than they should.  |\n",
      "|                                                          |          | published:2021-01-03T04:15:12.263                                                                                                                                                                                              |\n",
      "\n",
      "Total columns available: ['instruction', 'inputs', 'outputs']\n"
     ]
    }
   ],
   "source": [
    "import pandas as pd\n",
    "from datasets import load_dataset\n",
    "import os\n",
    "\n",
    "# --- Configuration ---\n",
    "# The Hugging Face dataset identifier\n",
    "HF_DATASET_ID = \"Bouquets/Cybersecurity-LLM-CVE\"\n",
    "# Name of the file to save the data to locally (recommended)\n",
    "OUTPUT_CSV_FILE = \"cve_data_raw.csv\"\n",
    "\n",
    "def get_cve_data(dataset_id: str, output_file: str) -> pd.DataFrame:\n",
    "    \"\"\"\n",
    "    Acquires the CVE dataset from Hugging Face and returns it as a Pandas DataFrame.\n",
    "    Saves the data to a local CSV file to avoid repeated downloads.\n",
    "    \"\"\"\n",
    "    print(f\"--- 1. Acquiring Data from Hugging Face: {dataset_id} ---\")\n",
    "\n",
    "    try:\n",
    "        # Load the 'train' split of the dataset\n",
    "        dataset = load_dataset(dataset_id, split='train')\n",
    "        \n",
    "        # Convert the Hugging Face Dataset object to a Pandas DataFrame\n",
    "        cve_df = dataset.to_pandas()\n",
    "\n",
    "        print(f\"Successfully loaded {len(cve_df)} CVE records.\")\n",
    "\n",
    "        # Save the DataFrame locally as a checkpoint\n",
    "        cve_df.to_csv(output_file, index=False)\n",
    "        print(f\"Data saved to local file: {output_file}\")\n",
    "        \n",
    "        return cve_df\n",
    "\n",
    "    except Exception as e:\n",
    "        print(f\"An error occurred during data loading: {e}\")\n",
    "        # In a real project, you'd add more sophisticated error handling\n",
    "        return pd.DataFrame() # Return empty DataFrame on failure\n",
    "\n",
    "# --- Execute the Acquisition ---\n",
    "cve_dataframe = get_cve_data(HF_DATASET_ID, OUTPUT_CSV_FILE)\n",
    "\n",
    "if not cve_dataframe.empty:\n",
    "    print(\"\\n--- Sample of Loaded Data ---\")\n",
    "    print(cve_dataframe.head(3).to_markdown(index=False, numalign=\"left\", stralign=\"left\"))\n",
    "    print(f\"\\nTotal columns available: {list(cve_dataframe.columns)}\")"
   ]
  },
  {
   "cell_type": "code",
   "execution_count": null,
   "id": "89a0925d",
   "metadata": {},
   "outputs": [],
   "source": []
  }
 ],
 "metadata": {
  "kernelspec": {
   "display_name": "vir",
   "language": "python",
   "name": "python3"
  },
  "language_info": {
   "codemirror_mode": {
    "name": "ipython",
    "version": 3
   },
   "file_extension": ".py",
   "mimetype": "text/x-python",
   "name": "python",
   "nbconvert_exporter": "python",
   "pygments_lexer": "ipython3",
   "version": "3.11.9"
  }
 },
 "nbformat": 4,
 "nbformat_minor": 5
}
